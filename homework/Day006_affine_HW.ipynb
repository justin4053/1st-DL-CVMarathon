{
 "cells": [
  {
   "cell_type": "markdown",
   "metadata": {},
   "source": [
    "# 作業\n",
    "\n",
    "練習以旋轉變換 + 平移變換來實現仿射變換\n",
    "> 旋轉 45 度 + 縮放 0.5 倍 + 平移 (x+100, y-50)"
   ]
  },
  {
   "cell_type": "code",
   "execution_count": 1,
   "metadata": {
    "ExecuteTime": {
     "end_time": "2019-12-18T13:17:37.716552Z",
     "start_time": "2019-12-18T13:17:37.632557Z"
    }
   },
   "outputs": [],
   "source": [
    "import cv2\n",
    "import time\n",
    "import numpy as np\n",
    "\n",
    "img_path = 'C:\\\\Users\\justi\\Desktop\\OpenCV\\Resource\\Part01\\\\lena.png'\n",
    "img = cv2.imread(img_path)"
   ]
  },
  {
   "cell_type": "markdown",
   "metadata": {},
   "source": [
    "## Affine Transformation - Case 2: any three point"
   ]
  },
  {
   "cell_type": "code",
   "execution_count": 21,
   "metadata": {
    "ExecuteTime": {
     "end_time": "2019-12-18T13:25:41.184317Z",
     "start_time": "2019-12-18T13:25:40.287214Z"
    }
   },
   "outputs": [],
   "source": [
    "# 給定兩兩一對，共三對的點\n",
    "# 這邊我們先用手動設定三對點，一般情況下會有點的資料或是透過介面手動標記三個點\n",
    "rows, cols = img.shape[:2]\n",
    "pt1 = np.array([[50,50], [300,100], [200,300]], dtype=np.float32)\n",
    "pt2 = np.array([[80,80], [330,150], [300,300]], dtype=np.float32)\n",
    "\n",
    "# 取得 affine 矩陣並做 affine 操作\n",
    "M_affine = cv2.getAffineTransform(pt1, pt2)\n",
    "img_affine = cv2.warpAffine(img, M_affine, (cols, rows))\n",
    "\n",
    "# 在圖片上標記點\n",
    "#cv2.circle(影像, 圓心座標, 半徑, 顏色, 線條寬度)\n",
    "#cv2.putText(影像, 文字, 座標, 字型, 大小, 顏色, 線條寬度, 線條種類)\n",
    "img_copy = img.copy()\n",
    "for idx, pts in enumerate(pt1):\n",
    "    pts = tuple(map(int, pts))\n",
    "    cv2.circle(img_copy, pts, 3, (0, 255, 0),-2)\n",
    "    cv2.putText(img_copy, str(idx), (pts[0]+5, pts[1]+5), cv2.FONT_HERSHEY_COMPLEX, 1, (0, 255, 0), 1)\n",
    "\n",
    "for idx, pts in enumerate(pt2):\n",
    "    pts = tuple(map(int, pts))\n",
    "    cv2.circle(img_affine, pts, 3, (0, 255, 0), -1)\n",
    "    cv2.putText(img_affine, str(idx), (pts[0]+5, pts[1]+5), cv2.FONT_HERSHEY_COMPLEX, 1, (0, 255, 0), 1)\n",
    "\n",
    "# 組合 + 顯示圖片\n",
    "img_show_affine = np.hstack((img_copy, img_affine))\n",
    "while True:\n",
    "    cv2.imshow('affine transformation', img_show_affine)\n",
    "    k = cv2.waitKey(0)\n",
    "    if k == 27:\n",
    "        cv2.destroyAllWindows()\n",
    "        break"
   ]
  }
 ],
 "metadata": {
  "hide_input": false,
  "kernelspec": {
   "display_name": "Python 3",
   "language": "python",
   "name": "python3"
  },
  "language_info": {
   "codemirror_mode": {
    "name": "ipython",
    "version": 3
   },
   "file_extension": ".py",
   "mimetype": "text/x-python",
   "name": "python",
   "nbconvert_exporter": "python",
   "pygments_lexer": "ipython3",
   "version": "3.7.4"
  },
  "varInspector": {
   "cols": {
    "lenName": 16,
    "lenType": 16,
    "lenVar": 40
   },
   "kernels_config": {
    "python": {
     "delete_cmd_postfix": "",
     "delete_cmd_prefix": "del ",
     "library": "var_list.py",
     "varRefreshCmd": "print(var_dic_list())"
    },
    "r": {
     "delete_cmd_postfix": ") ",
     "delete_cmd_prefix": "rm(",
     "library": "var_list.r",
     "varRefreshCmd": "cat(var_dic_list()) "
    }
   },
   "types_to_exclude": [
    "module",
    "function",
    "builtin_function_or_method",
    "instance",
    "_Feature"
   ],
   "window_display": false
  }
 },
 "nbformat": 4,
 "nbformat_minor": 2
}
