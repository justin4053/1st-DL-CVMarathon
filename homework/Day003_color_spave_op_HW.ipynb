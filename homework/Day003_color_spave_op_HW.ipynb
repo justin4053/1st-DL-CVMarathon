{
 "cells": [
  {
   "cell_type": "markdown",
   "metadata": {},
   "source": [
    "# 作業\n",
    "\n",
    "實作各種不一樣的方式來調整飽和 / 對比 / 明亮\n",
    "\n",
    "1. 改變 color space 來調整飽和度\n",
    "2. 實作直方圖均衡\n",
    "3. alpha/ beta 調整對比 / 明亮"
   ]
  },
  {
   "cell_type": "code",
   "execution_count": 14,
   "metadata": {
    "ExecuteTime": {
     "end_time": "2019-12-15T10:24:34.475647Z",
     "start_time": "2019-12-15T10:24:34.464642Z"
    }
   },
   "outputs": [],
   "source": [
    "import cv2\n",
    "import numpy as np\n",
    "\n",
    "img_path = 'C:\\\\Users\\justi\\Desktop\\OpenCV\\Resource\\Part01\\\\lena.png'\n",
    "\n",
    "# 以彩色圖片的方式載入\n",
    "img = cv2.imread(img_path, cv2.IMREAD_COLOR)"
   ]
  },
  {
   "cell_type": "markdown",
   "metadata": {},
   "source": [
    "## 改變飽和度\n",
    "\n",
    "- 轉換成 HSV color space, 改變 s channel 的值"
   ]
  },
  {
   "cell_type": "code",
   "execution_count": 17,
   "metadata": {
    "ExecuteTime": {
     "end_time": "2019-12-15T12:15:42.917012Z",
     "start_time": "2019-12-15T12:15:36.189056Z"
    }
   },
   "outputs": [],
   "source": [
    "# 為了要改變飽和度，我們先把 color space 轉成 HSV 格式\n",
    "img_hsv = cv2.cvtColor(img, cv2.COLOR_BGR2HSV)\n",
    "change_percentage = 0.2\n",
    "\n",
    "# 針對飽和度的值做改變，超過界線 0~1 的都會 bound\n",
    "# 在 HSV color space 減少飽和度\n",
    "img_hsv_down = img_hsv.astype('float32')\n",
    "img_hsv_down[...,-2] = img_hsv_down[...,-2]/255 - change_percentage\n",
    "img_hsv_down[img_hsv_down[...,-2] < 0]=0\n",
    "img_hsv_down[...,-2] = img_hsv_down[...,-2]*255\n",
    "img_hsv_down = img_hsv_down.astype('uint8')\n",
    "# 在 HSV color space 增加飽和度\n",
    "img_hsv_up = img_hsv.astype('float32')\n",
    "img_hsv_up[...,-2] = img_hsv_up[...,-2]/255 + change_percentage\n",
    "img_hsv_up[img_hsv_up[...,-2] > 1] = 1\n",
    "img_hsv_up[...,-2] = img_hsv_up[...,-2]*255\n",
    "img_hsv_up = img_hsv_up.astype('uint8')\n",
    "\n",
    "# 轉換 color space 回 BGR\n",
    "img_hsv_down = cv2.cvtColor(img_hsv_down, cv2.COLOR_HSV2BGR)\n",
    "img_hsv_up = cv2.cvtColor(img_hsv_up, cv2.COLOR_HSV2BGR)\n",
    "\n",
    "# 組合圖片 + 顯示圖片\n",
    "img_hsv_change = np.hstack((img, img_hsv_down, img_hsv_up))\n",
    "while True:\n",
    "    cv2.imshow('change saturation', img_hsv_change)\n",
    "    \n",
    "    k = cv2.waitKey(0)\n",
    "    if k == 27:\n",
    "        cv2.destroyAllWindows()\n",
    "        break"
   ]
  },
  {
   "cell_type": "markdown",
   "metadata": {},
   "source": [
    "## 直方圖均衡\n",
    "\n",
    "1. case 1: 把彩圖拆開對每個 channel 個別做直方圖均衡再組合起來\n",
    "2. case 2: 轉換 color space 到 HSV 之後對其中一個 channel 做直方圖均衡"
   ]
  },
  {
   "cell_type": "code",
   "execution_count": 22,
   "metadata": {
    "ExecuteTime": {
     "end_time": "2019-12-15T12:27:51.713980Z",
     "start_time": "2019-12-15T12:27:50.708571Z"
    }
   },
   "outputs": [],
   "source": [
    "# case 1\n",
    "# 每個 channel 個別做直方圖均衡\n",
    "equalHist_by_channel = [cv2.equalizeHist(img[..., i]) for i in range(len(img[0,0]))]\n",
    "\n",
    "# 組合經過直方圖均衡的每個 channel\n",
    "img_bgr_equal = img.copy()\n",
    "for i in range(len(img[0,0])):\n",
    "    img_bgr_equal[..., i] = equalHist_by_channel[i]\n",
    "\n",
    "# case 2 - 轉換 color space 後只對其中一個 channel 做直方圖均衡\n",
    "img_hsv_equal = img_hsv.copy()\n",
    "img_hsv_equal[..., -1] = cv2.equalizeHist(img_hsv[..., -1])\n",
    "img_hsv_equal = cv2.cvtColor(img_hsv_equal, cv2.COLOR_HSV2BGR)\n",
    "\n",
    "# 組合圖片 + 顯示圖片\n",
    "img_bgr_equalHist = np.hstack((img, img_bgr_equal, img_hsv_equal))\n",
    "while True:\n",
    "    # 比較 (原圖, BGR color space 對每個 channel 做直方圖均衡, HSV color space 對明度做直方圖均衡)\n",
    "    cv2.imshow('bgr equal histogram', img_bgr_equalHist)\n",
    "    k = cv2.waitKey(0)\n",
    "    if k == 27:\n",
    "        cv2.destroyAllWindows()\n",
    "        break"
   ]
  },
  {
   "cell_type": "markdown",
   "metadata": {},
   "source": [
    "## 調整對比 / 明亮"
   ]
  },
  {
   "cell_type": "code",
   "execution_count": 36,
   "metadata": {
    "ExecuteTime": {
     "end_time": "2019-12-15T12:31:57.204229Z",
     "start_time": "2019-12-15T12:31:56.470292Z"
    }
   },
   "outputs": [],
   "source": [
    "# alpha: 控制對比度 (1.0~3.0)\n",
    "# beta: 控制明亮度 (0~255)\n",
    "add_contrast = cv2.convertScaleAbs(img, alpha=2.0, beta=0)\n",
    "add_lighness = cv2.convertScaleAbs(img, alpha=1.0, beta=100)\n",
    "\n",
    "# 組合圖片 + 顯示圖片\n",
    "img_contrast_light = np.hstack((img, add_contrast, add_lighness))\n",
    "while True:\n",
    "    # 比較不同程度的對比 / 明亮\n",
    "    cv2.imshow('adjust contrast and brighness', img_contrast_light)\n",
    "    k = cv2.waitKey(0)\n",
    "    if k == 27:\n",
    "        cv2.destroyAllWindows()\n",
    "        break"
   ]
  },
  {
   "cell_type": "code",
   "execution_count": null,
   "metadata": {},
   "outputs": [],
   "source": []
  }
 ],
 "metadata": {
  "hide_input": false,
  "kernelspec": {
   "display_name": "Python 3",
   "language": "python",
   "name": "python3"
  },
  "language_info": {
   "codemirror_mode": {
    "name": "ipython",
    "version": 3
   },
   "file_extension": ".py",
   "mimetype": "text/x-python",
   "name": "python",
   "nbconvert_exporter": "python",
   "pygments_lexer": "ipython3",
   "version": "3.7.4"
  },
  "varInspector": {
   "cols": {
    "lenName": 16,
    "lenType": 16,
    "lenVar": 40
   },
   "kernels_config": {
    "python": {
     "delete_cmd_postfix": "",
     "delete_cmd_prefix": "del ",
     "library": "var_list.py",
     "varRefreshCmd": "print(var_dic_list())"
    },
    "r": {
     "delete_cmd_postfix": ") ",
     "delete_cmd_prefix": "rm(",
     "library": "var_list.r",
     "varRefreshCmd": "cat(var_dic_list()) "
    }
   },
   "types_to_exclude": [
    "module",
    "function",
    "builtin_function_or_method",
    "instance",
    "_Feature"
   ],
   "window_display": false
  }
 },
 "nbformat": 4,
 "nbformat_minor": 2
}
